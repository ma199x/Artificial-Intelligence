{
 "cells": [
  {
   "cell_type": "markdown",
   "metadata": {},
   "source": [
    "                                            Dictionary"
   ]
  },
  {
   "cell_type": "code",
   "execution_count": 1,
   "metadata": {},
   "outputs": [
    {
     "name": "stdout",
     "output_type": "stream",
     "text": [
      "{'bool': True, 's': 'string', 'list': [1, 2, 3, 4], 1: 11}\n"
     ]
    }
   ],
   "source": [
    "d={\n",
    "    \"bool\":True,\n",
    "    \"s\":\"string\",\n",
    "    \"list\":[1,2,3,4],\n",
    "    1:11\n",
    "}\n",
    "print(d)\n"
   ]
  },
  {
   "cell_type": "code",
   "execution_count": 2,
   "metadata": {},
   "outputs": [
    {
     "name": "stdout",
     "output_type": "stream",
     "text": [
      "{1: 'three'}\n"
     ]
    }
   ],
   "source": [
    "# Duplicates Not Allowed\n",
    "d={\n",
    "    1:\"one\",\n",
    "    1:\"two\",\n",
    "    1:\"three\"\n",
    "}\n",
    "print(d)"
   ]
  },
  {
   "cell_type": "code",
   "execution_count": 3,
   "metadata": {},
   "outputs": [
    {
     "name": "stdout",
     "output_type": "stream",
     "text": [
      "{1: 'one', 2: 'two', 3: 'three'}\n"
     ]
    }
   ],
   "source": [
    "# Create dictionary using dict()\n",
    "d=dict(\n",
    "    {\n",
    "        1:\"one\",\n",
    "        2:\"two\",\n",
    "        3:\"three\"\n",
    "    }\n",
    ")\n",
    "print(d)\n"
   ]
  },
  {
   "cell_type": "code",
   "execution_count": 4,
   "metadata": {},
   "outputs": [
    {
     "name": "stdout",
     "output_type": "stream",
     "text": [
      "{1: 'one', 2: 'two', 3: 'three'}\n"
     ]
    }
   ],
   "source": [
    "# Create dictionary from sequence having each item as a pair\n",
    "d=dict([(1, 'one'), (2, 'two'), (3, 'three')])\n",
    "print(d)"
   ]
  },
  {
   "cell_type": "code",
   "execution_count": 5,
   "metadata": {},
   "outputs": [
    {
     "name": "stdout",
     "output_type": "stream",
     "text": [
      "dict_items([(1, 'one'), (2, 'two'), (3, 'three')])\n"
     ]
    }
   ],
   "source": [
    "# dictName.items() return (key,value) pairs in list\n",
    "d={\n",
    "    1:\"one\",\n",
    "    2:\"two\",\n",
    "    3:\"three\"\n",
    "}\n",
    "print(d.items())"
   ]
  },
  {
   "cell_type": "code",
   "execution_count": 6,
   "metadata": {},
   "outputs": [
    {
     "name": "stdout",
     "output_type": "stream",
     "text": [
      "dict_keys([1, 2, 3])\n"
     ]
    }
   ],
   "source": [
    "# dictName.keys() return  keys in list\n",
    "d={\n",
    "    1:\"one\",\n",
    "    2:\"two\",\n",
    "    3:\"three\"\n",
    "}\n",
    "print(d.keys())"
   ]
  },
  {
   "cell_type": "code",
   "execution_count": 7,
   "metadata": {},
   "outputs": [
    {
     "name": "stdout",
     "output_type": "stream",
     "text": [
      "dict_values(['one', 'two', 'three'])\n"
     ]
    }
   ],
   "source": [
    "# dictName.values() return  values in list\n",
    "d={\n",
    "    1:\"one\",\n",
    "    2:\"two\",\n",
    "    3:\"three\"\n",
    "}\n",
    "print(d.values())"
   ]
  },
  {
   "cell_type": "markdown",
   "metadata": {},
   "source": [
    "Accessing Elements from Dictionary"
   ]
  },
  {
   "cell_type": "code",
   "execution_count": 8,
   "metadata": {},
   "outputs": [
    {
     "name": "stdout",
     "output_type": "stream",
     "text": [
      "True\n"
     ]
    }
   ],
   "source": [
    "d={\n",
    "    1:\"one\",\n",
    "    2:\"two\",\n",
    "    3:\"three\"\n",
    "}\n",
    "d[4]=True\n",
    "print(d[4])\n",
    "# print(d[4])"
   ]
  },
  {
   "cell_type": "code",
   "execution_count": 9,
   "metadata": {},
   "outputs": [
    {
     "name": "stdout",
     "output_type": "stream",
     "text": [
      "two\n",
      "None\n"
     ]
    }
   ],
   "source": [
    "# dictName.get(key)   ---->  return value \n",
    "d={\n",
    "    1:\"one\",\n",
    "    2:\"two\",\n",
    "    3:\"three\"\n",
    "}\n",
    "print( d.get(2))\n",
    "print(d.get(4))\n"
   ]
  },
  {
   "cell_type": "markdown",
   "metadata": {},
   "source": [
    "Changing and Adding Dictionary elements"
   ]
  },
  {
   "cell_type": "code",
   "execution_count": 10,
   "metadata": {},
   "outputs": [
    {
     "name": "stdout",
     "output_type": "stream",
     "text": [
      "{1: 'one', 2: 'two', 3: 'three', 4: 'fwwwour'}\n"
     ]
    }
   ],
   "source": [
    "d={\n",
    "    1:\"one\",\n",
    "    2:\"two\",\n",
    "    3:\"three\",\n",
    "    4:True\n",
    "}\n",
    "d[4]=\"fwwwour\"\n",
    "print(d)"
   ]
  },
  {
   "cell_type": "markdown",
   "metadata": {},
   "source": [
    "Removing elements from Dictionary"
   ]
  },
  {
   "cell_type": "code",
   "execution_count": 11,
   "metadata": {},
   "outputs": [
    {
     "name": "stdout",
     "output_type": "stream",
     "text": [
      "{1: 'one', 3: 'three'}\n"
     ]
    }
   ],
   "source": [
    "# dictName.pop(key) --> remove key and value\n",
    "d={\n",
    "    1:\"one\",\n",
    "    2:\"two\",\n",
    "    3:\"three\"\n",
    "}\n",
    "d.pop(2)\n",
    "print(d)"
   ]
  },
  {
   "cell_type": "code",
   "execution_count": 12,
   "metadata": {},
   "outputs": [
    {
     "name": "stdout",
     "output_type": "stream",
     "text": [
      "{}\n"
     ]
    }
   ],
   "source": [
    "# dictName.clear() --> remove all pair  from dict\n",
    "d={\n",
    "    1:\"one\",\n",
    "    2:\"two\",\n",
    "    3:\"three\"\n",
    "}\n",
    "d.clear()\n",
    "print(d)"
   ]
  },
  {
   "cell_type": "code",
   "execution_count": 13,
   "metadata": {},
   "outputs": [
    {
     "ename": "NameError",
     "evalue": "name 'd' is not defined",
     "output_type": "error",
     "traceback": [
      "\u001b[1;31m---------------------------------------------------------------------------\u001b[0m",
      "\u001b[1;31mNameError\u001b[0m                                 Traceback (most recent call last)",
      "\u001b[1;32mC:\\Users\\MOHAMM~1\\AppData\\Local\\Temp/ipykernel_9404/1193782970.py\u001b[0m in \u001b[0;36m<module>\u001b[1;34m\u001b[0m\n\u001b[0;32m      6\u001b[0m }\n\u001b[0;32m      7\u001b[0m \u001b[1;32mdel\u001b[0m\u001b[1;33m(\u001b[0m\u001b[0md\u001b[0m\u001b[1;33m)\u001b[0m\u001b[1;33m\u001b[0m\u001b[1;33m\u001b[0m\u001b[0m\n\u001b[1;32m----> 8\u001b[1;33m \u001b[0mprint\u001b[0m\u001b[1;33m(\u001b[0m\u001b[0md\u001b[0m\u001b[1;33m)\u001b[0m\u001b[1;33m\u001b[0m\u001b[1;33m\u001b[0m\u001b[0m\n\u001b[0m",
      "\u001b[1;31mNameError\u001b[0m: name 'd' is not defined"
     ]
    }
   ],
   "source": [
    "# del(dictName) --> remove dict\n",
    "d={\n",
    "    1:\"one\",\n",
    "    2:\"two\",\n",
    "    3:\"three\"\n",
    "}\n",
    "del(d)\n",
    "print(d)"
   ]
  },
  {
   "cell_type": "markdown",
   "metadata": {},
   "source": [
    "Loop Through a Dictionary"
   ]
  },
  {
   "cell_type": "code",
   "execution_count": null,
   "metadata": {},
   "outputs": [],
   "source": [
    "d={\n",
    "    1:\"one\",\n",
    "    2:\"two\",\n",
    "    3:\"three\"\n",
    "}\n",
    "for key in d.keys():\n",
    "    print(key)"
   ]
  },
  {
   "cell_type": "code",
   "execution_count": null,
   "metadata": {},
   "outputs": [],
   "source": [
    "# print value using key\n",
    "d={\n",
    "    1:\"one\",\n",
    "    2:\"two\",\n",
    "    3:\"three\"\n",
    "}\n",
    "for key in d:\n",
    "    print(d[key])"
   ]
  },
  {
   "cell_type": "code",
   "execution_count": null,
   "metadata": {},
   "outputs": [],
   "source": [
    "# print key and value using items()\n",
    "d={\n",
    "    1:\"one\",\n",
    "    2:\"two\",\n",
    "    3:\"three\"\n",
    "}\n",
    "# print(d.items())\n",
    "for k,v in d.items():\n",
    "    print(k,v)"
   ]
  },
  {
   "cell_type": "code",
   "execution_count": null,
   "metadata": {},
   "outputs": [
    {
     "name": "stdout",
     "output_type": "stream",
     "text": [
      "{1: {'name': 'John', 'age': '27', 'gender': 'Male'}, 2: {'name': 'Marie', 'age': '22', 'gender': 'Female'}, 3: {'name': 'Peter', 'age': '29', 'gender': 'Male', 'married': 'Yes'}}\n"
     ]
    }
   ],
   "source": [
    "# Nested Dictionary in Python\n",
    "p = {\n",
    "    1: {'name': 'John', 'age': '27', 'gender': 'Male'}, \n",
    "    2: {'name': 'Marie', 'age': '22', 'gender': 'Female'}\n",
    "}\n",
    "p[3] = {'name': 'Peter', 'age': '29', 'gender': 'Male', 'married': 'Yes'}\n",
    "print(p)"
   ]
  },
  {
   "cell_type": "markdown",
   "metadata": {},
   "source": [
    "                                                            Pandas: How to Read and Write Files"
   ]
  },
  {
   "cell_type": "code",
   "execution_count": null,
   "metadata": {},
   "outputs": [],
   "source": [
    "import pandas as pd\n",
    "p = {\n",
    "    1: {'name': 'John' , 'age': '27', 'gender': 'Male'}, \n",
    "    2: {'name': 'Marie', 'age': '22', 'gender': 'Female'},\n",
    "    3: {'name': 'Peter', 'age': '29', 'gender': 'Male'}\n",
    "}\n",
    "df=pd.DataFrame(p).T\n",
    "df.to_csv(\"F:\\\\df.csv\")\n",
    "\n"
   ]
  },
  {
   "cell_type": "code",
   "execution_count": null,
   "metadata": {},
   "outputs": [
    {
     "name": "stdout",
     "output_type": "stream",
     "text": [
      "   Unnamed: 0   name  age  gender\n",
      "0           1   John   27    Male\n",
      "1           2  Marie   22  Female\n",
      "2           3  Peter   29    Male\n"
     ]
    }
   ],
   "source": [
    "import pandas as pd\n",
    "# df=pd.read_csv(\"F:\\\\data.csv\")\n",
    "df=pd.read_csv(\"F:\\\\df.csv\")\n",
    "print(df)"
   ]
  }
 ],
 "metadata": {
  "interpreter": {
   "hash": "d2f00cee52d37db35bcb87df7d222e112ddfaea95508ad81bac3813c84e6bd02"
  },
  "kernelspec": {
   "display_name": "Python 3.10.0 64-bit",
   "language": "python",
   "name": "python3"
  },
  "language_info": {
   "codemirror_mode": {
    "name": "ipython",
    "version": 3
   },
   "file_extension": ".py",
   "mimetype": "text/x-python",
   "name": "python",
   "nbconvert_exporter": "python",
   "pygments_lexer": "ipython3",
   "version": "3.10.0"
  },
  "orig_nbformat": 4
 },
 "nbformat": 4,
 "nbformat_minor": 2
}
