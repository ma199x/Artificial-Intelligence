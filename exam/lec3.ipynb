{
 "cells": [
  {
   "cell_type": "markdown",
   "metadata": {},
   "source": [
    "                                        tuple"
   ]
  },
  {
   "cell_type": "code",
   "execution_count": 111,
   "metadata": {},
   "outputs": [
    {
     "name": "stdout",
     "output_type": "stream",
     "text": [
      "(1, 'str', 4.44, True)\n",
      "4\n",
      "1\n",
      "('str', 4.44, True)\n"
     ]
    }
   ],
   "source": [
    "# we can’t add or delete elements from tuples.\n",
    "t=(1,\"str\",4.44,True)\n",
    "print(t)        #print all \n",
    "print(len(t))   #length tuple\n",
    "print(t[0])     #Indexing\n",
    "print(t[1:])    #Slicing"
   ]
  },
  {
   "cell_type": "code",
   "execution_count": 112,
   "metadata": {},
   "outputs": [
    {
     "name": "stdout",
     "output_type": "stream",
     "text": [
      "<class 'bool'>\n"
     ]
    }
   ],
   "source": [
    "# 0 1     2    3\n",
    "t=(1,\"str\",4.44,True)\n",
    "print(type(t[3]))"
   ]
  },
  {
   "cell_type": "code",
   "execution_count": 113,
   "metadata": {},
   "outputs": [
    {
     "name": "stdout",
     "output_type": "stream",
     "text": [
      "1\n",
      "str\n",
      "4.44\n",
      "True\n"
     ]
    }
   ],
   "source": [
    "# 0 1     2    3\n",
    "t=(1,\"str\",4.44,True)\n",
    "for e in t:\n",
    "    print(e)"
   ]
  },
  {
   "cell_type": "code",
   "execution_count": 114,
   "metadata": {},
   "outputs": [
    {
     "name": "stdout",
     "output_type": "stream",
     "text": [
      "3\n"
     ]
    }
   ],
   "source": [
    "t=(1,\"str\",4.44,True,2,2,2)\n",
    "print(t.count(2)) # find duplicate element"
   ]
  },
  {
   "cell_type": "markdown",
   "metadata": {},
   "source": [
    "tuples don’t have methods such as append(), remove(),insert() and pop()\n",
    "\n",
    "You can convert the tuple into a list, change the list, and convert \n",
    "the list back into a tuple."
   ]
  },
  {
   "cell_type": "code",
   "execution_count": 115,
   "metadata": {},
   "outputs": [
    {
     "name": "stdout",
     "output_type": "stream",
     "text": [
      "(1, 'str', 4.44, True, 11)\n"
     ]
    }
   ],
   "source": [
    "t=(1,\"str\",4.44,True)\n",
    "l=list(t)\n",
    "l.append(11)\n",
    "t=tuple(l)\n",
    "print(t)"
   ]
  },
  {
   "cell_type": "code",
   "execution_count": 116,
   "metadata": {},
   "outputs": [
    {
     "name": "stdout",
     "output_type": "stream",
     "text": [
      "max num is  4\n",
      "min num is  1\n"
     ]
    }
   ],
   "source": [
    "t=(1,2,3,4)\n",
    "m1=max(t) #return max number and sive in m1 \n",
    "m2=min(t) #return min number and sive in m2\n",
    "print(\"max num is \",m1)\n",
    "print(\"min num is \",m2)"
   ]
  },
  {
   "cell_type": "code",
   "execution_count": 117,
   "metadata": {},
   "outputs": [
    {
     "name": "stdout",
     "output_type": "stream",
     "text": [
      "sum of the items in a tuple =  10\n"
     ]
    }
   ],
   "source": [
    "# returns the total sum of the items in a tuple.\n",
    "# This can only be used with numerical values. \n",
    "t=(1,2,3,4)\n",
    "s=sum(t)\n",
    "print(\"sum of the items in a tuple = \",s)  "
   ]
  },
  {
   "cell_type": "code",
   "execution_count": 118,
   "metadata": {},
   "outputs": [
    {
     "name": "stdout",
     "output_type": "stream",
     "text": [
      "after sorted    [1, 4, 12, 22]\n"
     ]
    }
   ],
   "source": [
    "# sorted(tupleNmae)\n",
    "# returns a tuple with the elements in a sorted order\n",
    "t=(1,22,12,4)\n",
    "s=sorted(t)\n",
    "print(\"after sorted   \",s)"
   ]
  },
  {
   "cell_type": "markdown",
   "metadata": {},
   "source": [
    "                                            Sets"
   ]
  },
  {
   "cell_type": "code",
   "execution_count": 119,
   "metadata": {},
   "outputs": [
    {
     "name": "stdout",
     "output_type": "stream",
     "text": [
      "length my_set =  5\n"
     ]
    }
   ],
   "source": [
    "my_set={1,\"str\",False,4,3,4,4,4}\n",
    "# print(my_set)\n",
    "print(\"length my_set = \",len(my_set))"
   ]
  },
  {
   "cell_type": "code",
   "execution_count": 120,
   "metadata": {},
   "outputs": [
    {
     "name": "stdout",
     "output_type": "stream",
     "text": [
      "set after add {1}\n",
      "set after update  {1, 2, 3, 'SCD'}\n"
     ]
    }
   ],
   "source": [
    "s=set()                  # constructor to make a set.\n",
    "s.add(1)                 # used to add a single item.\n",
    "print(\"set after add\",s)\n",
    "\n",
    "s.update([2,3,\"SCD\"])    #used to add multiple items. \n",
    "print(\"set after update \",s)"
   ]
  },
  {
   "cell_type": "code",
   "execution_count": 121,
   "metadata": {},
   "outputs": [
    {
     "name": "stdout",
     "output_type": "stream",
     "text": [
      "set after clear  {1, 2, 3, 4}\n"
     ]
    }
   ],
   "source": [
    "# Removes all elements from the set.\n",
    "# setNmae.clear()\n",
    "s={1,2,3,4}\n",
    "print(\"set after clear \",s)"
   ]
  },
  {
   "cell_type": "code",
   "execution_count": 122,
   "metadata": {},
   "outputs": [
    {
     "name": "stdout",
     "output_type": "stream",
     "text": [
      "Removes the 2 from the set {1, 3, 4}\n"
     ]
    }
   ],
   "source": [
    "#Removes the element from the set.\n",
    "# setNmae.remove(name_element) or discard\n",
    "s={1,2,3,4}\n",
    "s.remove(2)\n",
    "print(\"Removes the 2 from the set\",s)"
   ]
  },
  {
   "cell_type": "code",
   "execution_count": 123,
   "metadata": {},
   "outputs": [
    {
     "name": "stdout",
     "output_type": "stream",
     "text": [
      "{2, 4}\n"
     ]
    }
   ],
   "source": [
    "#  Returns and removes a random element from the set.\n",
    "# setName.pop()\n",
    "s={1,2,4}  \n",
    "s.pop()\n",
    "print(s)"
   ]
  },
  {
   "cell_type": "code",
   "execution_count": 124,
   "metadata": {},
   "outputs": [
    {
     "ename": "NameError",
     "evalue": "name 's' is not defined",
     "output_type": "error",
     "traceback": [
      "\u001b[1;31m---------------------------------------------------------------------------\u001b[0m",
      "\u001b[1;31mNameError\u001b[0m                                 Traceback (most recent call last)",
      "\u001b[1;32mC:\\Users\\MOHAMM~1\\AppData\\Local\\Temp/ipykernel_4896/850855150.py\u001b[0m in \u001b[0;36m<module>\u001b[1;34m\u001b[0m\n\u001b[0;32m      2\u001b[0m \u001b[0ms\u001b[0m\u001b[1;33m=\u001b[0m\u001b[1;33m{\u001b[0m\u001b[1;36m1\u001b[0m\u001b[1;33m,\u001b[0m\u001b[1;36m2\u001b[0m\u001b[1;33m,\u001b[0m\u001b[1;36m4\u001b[0m\u001b[1;33m}\u001b[0m\u001b[1;33m\u001b[0m\u001b[1;33m\u001b[0m\u001b[0m\n\u001b[0;32m      3\u001b[0m \u001b[1;32mdel\u001b[0m\u001b[1;33m(\u001b[0m\u001b[0ms\u001b[0m\u001b[1;33m)\u001b[0m\u001b[1;33m\u001b[0m\u001b[1;33m\u001b[0m\u001b[0m\n\u001b[1;32m----> 4\u001b[1;33m \u001b[0mprint\u001b[0m\u001b[1;33m(\u001b[0m\u001b[0ms\u001b[0m\u001b[1;33m)\u001b[0m\u001b[1;33m\u001b[0m\u001b[1;33m\u001b[0m\u001b[0m\n\u001b[0m",
      "\u001b[1;31mNameError\u001b[0m: name 's' is not defined"
     ]
    }
   ],
   "source": [
    "# keyword will delete the set completely\n",
    "s={1,2,4}  \n",
    "del(s)\n",
    "print(s)"
   ]
  }
 ],
 "metadata": {
  "interpreter": {
   "hash": "d2f00cee52d37db35bcb87df7d222e112ddfaea95508ad81bac3813c84e6bd02"
  },
  "kernelspec": {
   "display_name": "Python 3.10.0 64-bit",
   "language": "python",
   "name": "python3"
  },
  "language_info": {
   "codemirror_mode": {
    "name": "ipython",
    "version": 3
   },
   "file_extension": ".py",
   "mimetype": "text/x-python",
   "name": "python",
   "nbconvert_exporter": "python",
   "pygments_lexer": "ipython3",
   "version": "3.10.0"
  },
  "orig_nbformat": 4
 },
 "nbformat": 4,
 "nbformat_minor": 2
}
