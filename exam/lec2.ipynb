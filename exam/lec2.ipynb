{
 "cells": [
  {
   "cell_type": "markdown",
   "metadata": {},
   "source": [
    "                                                                Data Structures in Python"
   ]
  },
  {
   "cell_type": "markdown",
   "metadata": {},
   "source": [
    "1-List"
   ]
  },
  {
   "cell_type": "code",
   "execution_count": 37,
   "metadata": {},
   "outputs": [
    {
     "name": "stdout",
     "output_type": "stream",
     "text": [
      "[1, 2.44, 'a', 'name', True]\n"
     ]
    }
   ],
   "source": [
    "l=[1,2.44,'a',\"name\",True] #A list is also just a collection of values\n",
    "print(l)"
   ]
  },
  {
   "cell_type": "code",
   "execution_count": 38,
   "metadata": {},
   "outputs": [
    {
     "name": "stdout",
     "output_type": "stream",
     "text": [
      "5\n"
     ]
    }
   ],
   "source": [
    "l=[1,2.44,'a',\"name\",True]\n",
    "print(len(l))"
   ]
  },
  {
   "cell_type": "code",
   "execution_count": 54,
   "metadata": {},
   "outputs": [
    {
     "name": "stdout",
     "output_type": "stream",
     "text": [
      "name\n"
     ]
    }
   ],
   "source": [
    "# 0 1    2   3      4 \n",
    "l=[1,2.44,'a',\"name\",True]\n",
    "print(l[3])"
   ]
  },
  {
   "cell_type": "code",
   "execution_count": 40,
   "metadata": {},
   "outputs": [
    {
     "name": "stdout",
     "output_type": "stream",
     "text": [
      "[11, 2.44, 'a', 'name', False]\n"
     ]
    }
   ],
   "source": [
    "# 0 1    2   3      4 \n",
    "l=[1,2.44,'a',\"name\",True]\n",
    "l[0]=11\n",
    "l[4]=False\n",
    "print(l)"
   ]
  },
  {
   "cell_type": "code",
   "execution_count": 41,
   "metadata": {},
   "outputs": [
    {
     "name": "stdout",
     "output_type": "stream",
     "text": [
      "[1, 2, 3]\n"
     ]
    }
   ],
   "source": [
    "# 0 1    2   3      4    5\n",
    "l=[1,2.44,'a',\"name\",True,[1,2,3] ]\n",
    "print(l[5])"
   ]
  },
  {
   "cell_type": "code",
   "execution_count": 42,
   "metadata": {},
   "outputs": [
    {
     "name": "stdout",
     "output_type": "stream",
     "text": [
      "m\n"
     ]
    }
   ],
   "source": [
    "# 0 1    2   3      4    5\n",
    "l=[1,2.44,'a',\"name\",True,[1,2,3] ]\n",
    "                        # 0 1 2\n",
    "print(l[3][2])"
   ]
  },
  {
   "cell_type": "code",
   "execution_count": 43,
   "metadata": {},
   "outputs": [
    {
     "name": "stdout",
     "output_type": "stream",
     "text": [
      "True\n"
     ]
    }
   ],
   "source": [
    "# 0        1         2\n",
    "l=[ [1,2,3], [4,5,6] ,[7,True,9,\"name\"]  ]\n",
    "#   0 1 2    0 1 2    0 1    2 3\n",
    "print(l[2][1])"
   ]
  },
  {
   "cell_type": "markdown",
   "metadata": {},
   "source": [
    "1.1-List Operations"
   ]
  },
  {
   "cell_type": "code",
   "execution_count": 44,
   "metadata": {},
   "outputs": [
    {
     "name": "stdout",
     "output_type": "stream",
     "text": [
      "[1, 'ali', True]\n"
     ]
    }
   ],
   "source": [
    "# Adding Element\n",
    "# linstName.append(Element) add Element at end \n",
    "l=[]\n",
    "l.append(1)\n",
    "l.append(\"ali\")\n",
    "l.append(True)\n",
    "print(l)"
   ]
  },
  {
   "cell_type": "code",
   "execution_count": 45,
   "metadata": {},
   "outputs": [
    {
     "name": "stdout",
     "output_type": "stream",
     "text": [
      "['a', 88, 1, 2]\n"
     ]
    }
   ],
   "source": [
    "# Adding Element\n",
    "# linstName.insert(index, newElement) to add Element at the index\n",
    "l=[88,1,2]\n",
    "l.insert(0,\"a\")\n",
    "print(l)"
   ]
  },
  {
   "cell_type": "code",
   "execution_count": 46,
   "metadata": {},
   "outputs": [
    {
     "name": "stdout",
     "output_type": "stream",
     "text": [
      "[0]\n"
     ]
    }
   ],
   "source": [
    "# Removing Elements\n",
    "# linstName.pop()   to removes the last element from the lis\n",
    "l=[0,1,2]\n",
    "l.pop()\n",
    "l.pop()\n",
    "print(l)\n"
   ]
  },
  {
   "cell_type": "code",
   "execution_count": 47,
   "metadata": {},
   "outputs": [
    {
     "name": "stdout",
     "output_type": "stream",
     "text": [
      "[[1, 2, 3], [7, 8, 9, 'name']]\n"
     ]
    }
   ],
   "source": [
    "# listName.remove(listName[index]) \n",
    "# 0        1         2\n",
    "l=[ [1,2,3], [4,5,6] ,[7,8,9,\"name\"]  ]\n",
    "l.remove(l[1])\n",
    "print(l)\n"
   ]
  },
  {
   "cell_type": "code",
   "execution_count": 48,
   "metadata": {},
   "outputs": [
    {
     "name": "stdout",
     "output_type": "stream",
     "text": [
      "2\n"
     ]
    }
   ],
   "source": [
    "# Index Search\n",
    "l=[\"a\",\"b\",\"c\"]\n",
    "print(l.index(\"c\"))\n"
   ]
  },
  {
   "cell_type": "code",
   "execution_count": 49,
   "metadata": {},
   "outputs": [
    {
     "name": "stdout",
     "output_type": "stream",
     "text": [
      "[3, 2, 4, 1]\n"
     ]
    }
   ],
   "source": [
    "# List  Sort\n",
    "l=[3,2,4,1]\n",
    "# l.sort()\n",
    "x=sorted(l)\n",
    "print(l)"
   ]
  },
  {
   "cell_type": "markdown",
   "metadata": {},
   "source": [
    "                                                                List Comprehension"
   ]
  },
  {
   "cell_type": "code",
   "execution_count": 50,
   "metadata": {},
   "outputs": [
    {
     "name": "stdout",
     "output_type": "stream",
     "text": [
      "[2, 4, 6, 8, 10]\n"
     ]
    }
   ],
   "source": [
    "l=[]\n",
    "for x in range(1,11):\n",
    "     if x%2==0:\n",
    "         l.append(x)\n",
    "print(l)"
   ]
  },
  {
   "cell_type": "code",
   "execution_count": 56,
   "metadata": {},
   "outputs": [
    {
     "name": "stdout",
     "output_type": "stream",
     "text": [
      "[2, 4, 6, 8, 10, 12, 14, 16, 18, 20]\n"
     ]
    }
   ],
   "source": [
    "# [expression for loop if condition]\n",
    "print([x for x in range(1,21) if x%2==0])"
   ]
  },
  {
   "cell_type": "code",
   "execution_count": 57,
   "metadata": {},
   "outputs": [
    {
     "name": "stdout",
     "output_type": "stream",
     "text": [
      "[3, 5, 7, 9, 11, 13, 15, 17, 19, 21]\n"
     ]
    }
   ],
   "source": [
    "# [expression for loop if condition]\n",
    "print([x+1 for x in range(1,21) if x%2==0])"
   ]
  },
  {
   "cell_type": "code",
   "execution_count": 53,
   "metadata": {},
   "outputs": [
    {
     "name": "stdout",
     "output_type": "stream",
     "text": [
      "['A', 'B', 'C']\n"
     ]
    }
   ],
   "source": [
    "# [expression for loop if condition]\n",
    "l=['a','b','c']\n",
    "l2=[x.upper() for x in l]\n",
    "print(l2)"
   ]
  }
 ],
 "metadata": {
  "interpreter": {
   "hash": "d2f00cee52d37db35bcb87df7d222e112ddfaea95508ad81bac3813c84e6bd02"
  },
  "kernelspec": {
   "display_name": "Python 3.10.0 64-bit",
   "language": "python",
   "name": "python3"
  },
  "language_info": {
   "codemirror_mode": {
    "name": "ipython",
    "version": 3
   },
   "file_extension": ".py",
   "mimetype": "text/x-python",
   "name": "python",
   "nbconvert_exporter": "python",
   "pygments_lexer": "ipython3",
   "version": "3.10.0"
  },
  "orig_nbformat": 4
 },
 "nbformat": 4,
 "nbformat_minor": 2
}
